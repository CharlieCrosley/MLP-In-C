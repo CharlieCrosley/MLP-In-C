{
 "cells": [
  {
   "cell_type": "code",
   "execution_count": null,
   "metadata": {},
   "outputs": [],
   "source": [
    "import numpy as np\n",
    "import matplotlib.pyplot as plt\n",
    "\n",
    "# Change these values depending on the .c file\n",
    "n_x_points = 21\n",
    "n_y_points = 15\n",
    "\n",
    "# Load points\n",
    "points = np.loadtxt('linspace_points.txt', delimiter=',')\n",
    "\n",
    "pred_x = points[:, 0].reshape(n_y_points, n_x_points)\n",
    "pred_y = points[:, 1].reshape(n_y_points, n_x_points)\n",
    "\n",
    "# Load dataset points\n",
    "data = np.loadtxt('dataset_points.txt', delimiter=',')\n",
    "x = data[:, 0]\n",
    "y = data[:, 1]\n",
    "data_labels = np.concatenate((np.zeros(x.shape[0]//2), np.ones(x.shape[0]//2)))\n",
    "\n",
    "# Load labels\n",
    "labels = np.loadtxt('linspace_labels.txt', delimiter=',')\n",
    "labels = np.where(labels < 0.5, 0, 1)\n",
    "\n",
    "# Interpolate labels on grid\n",
    "grid_z = labels.reshape(n_y_points, n_x_points)\n",
    "\n",
    "# Plot contourf\n",
    "plt.contourf(pred_x, pred_y, grid_z, cmap=plt.cm.Spectral, alpha=0.8)\n",
    "plt.scatter(x, y, c=data_labels, s=40, cmap=plt.cm.Spectral)\n",
    "plt.xlabel('X')\n",
    "plt.ylabel('Y')\n",
    "plt.xlim(pred_x.min(), pred_x.max())\n",
    "plt.ylim(pred_y.min(), pred_y.max())\n",
    "plt.show()\n"
   ]
  }
 ],
 "metadata": {
  "language_info": {
   "name": "python"
  }
 },
 "nbformat": 4,
 "nbformat_minor": 2
}
